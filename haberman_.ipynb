{
  "nbformat": 4,
  "nbformat_minor": 0,
  "metadata": {
    "colab": {
      "name": "kshitiz.omar.12@gmail.com_2.ipynb",
      "provenance": [],
      "collapsed_sections": []
    },
    "kernelspec": {
      "name": "python3",
      "display_name": "Python 3"
    }
  },
  "cells": [
    {
      "cell_type": "markdown",
      "metadata": {
        "id": "K3dVNZxBNqnd",
        "colab_type": "text"
      },
      "source": [
        "## Exploratory Data Analysis on the Haberman dataset.\n",
        "\n",
        "About that dataset: \n",
        "\n",
        "The dataset contains cases from a study that was conducted between 1958 and 1970 at the University of Chicago's Billings Hospital on the survival of patients who had undergone surgery for breast cancer."
      ]
    },
    {
      "cell_type": "code",
      "metadata": {
        "id": "Svfg3lnIt1P1",
        "colab_type": "code",
        "colab": {}
      },
      "source": [
        "import warnings\n",
        "warnings.filterwarnings(\"ignore\") #to suppress warnings which might occur when running some plotting commands"
      ],
      "execution_count": 0,
      "outputs": []
    },
    {
      "cell_type": "code",
      "metadata": {
        "id": "AN_fblkROK9C",
        "colab_type": "code",
        "colab": {}
      },
      "source": [
        "#importing all the dependencies\n",
        "import pandas as pd\n",
        "import numpy as np\n",
        "import matplotlib.pyplot as plt\n",
        "import seaborn as sns\n",
        "import plotly.express as px"
      ],
      "execution_count": 0,
      "outputs": []
    },
    {
      "cell_type": "code",
      "metadata": {
        "id": "KS4UDvZTOis2",
        "colab_type": "code",
        "outputId": "5f21f8af-8b60-4c41-a7b2-e28aa1107c9f",
        "colab": {
          "base_uri": "https://localhost:8080/",
          "height": 347
        }
      },
      "source": [
        "#now importing the dataset as dataframe\n",
        "\n",
        "haberman = pd.read_csv(\"haberman.csv\")\n",
        "haberman.head(10)"
      ],
      "execution_count": 3,
      "outputs": [
        {
          "output_type": "execute_result",
          "data": {
            "text/html": [
              "<div>\n",
              "<style scoped>\n",
              "    .dataframe tbody tr th:only-of-type {\n",
              "        vertical-align: middle;\n",
              "    }\n",
              "\n",
              "    .dataframe tbody tr th {\n",
              "        vertical-align: top;\n",
              "    }\n",
              "\n",
              "    .dataframe thead th {\n",
              "        text-align: right;\n",
              "    }\n",
              "</style>\n",
              "<table border=\"1\" class=\"dataframe\">\n",
              "  <thead>\n",
              "    <tr style=\"text-align: right;\">\n",
              "      <th></th>\n",
              "      <th>age</th>\n",
              "      <th>year</th>\n",
              "      <th>nodes</th>\n",
              "      <th>status</th>\n",
              "    </tr>\n",
              "  </thead>\n",
              "  <tbody>\n",
              "    <tr>\n",
              "      <th>0</th>\n",
              "      <td>30</td>\n",
              "      <td>64</td>\n",
              "      <td>1</td>\n",
              "      <td>1</td>\n",
              "    </tr>\n",
              "    <tr>\n",
              "      <th>1</th>\n",
              "      <td>30</td>\n",
              "      <td>62</td>\n",
              "      <td>3</td>\n",
              "      <td>1</td>\n",
              "    </tr>\n",
              "    <tr>\n",
              "      <th>2</th>\n",
              "      <td>30</td>\n",
              "      <td>65</td>\n",
              "      <td>0</td>\n",
              "      <td>1</td>\n",
              "    </tr>\n",
              "    <tr>\n",
              "      <th>3</th>\n",
              "      <td>31</td>\n",
              "      <td>59</td>\n",
              "      <td>2</td>\n",
              "      <td>1</td>\n",
              "    </tr>\n",
              "    <tr>\n",
              "      <th>4</th>\n",
              "      <td>31</td>\n",
              "      <td>65</td>\n",
              "      <td>4</td>\n",
              "      <td>1</td>\n",
              "    </tr>\n",
              "    <tr>\n",
              "      <th>5</th>\n",
              "      <td>33</td>\n",
              "      <td>58</td>\n",
              "      <td>10</td>\n",
              "      <td>1</td>\n",
              "    </tr>\n",
              "    <tr>\n",
              "      <th>6</th>\n",
              "      <td>33</td>\n",
              "      <td>60</td>\n",
              "      <td>0</td>\n",
              "      <td>1</td>\n",
              "    </tr>\n",
              "    <tr>\n",
              "      <th>7</th>\n",
              "      <td>34</td>\n",
              "      <td>59</td>\n",
              "      <td>0</td>\n",
              "      <td>2</td>\n",
              "    </tr>\n",
              "    <tr>\n",
              "      <th>8</th>\n",
              "      <td>34</td>\n",
              "      <td>66</td>\n",
              "      <td>9</td>\n",
              "      <td>2</td>\n",
              "    </tr>\n",
              "    <tr>\n",
              "      <th>9</th>\n",
              "      <td>34</td>\n",
              "      <td>58</td>\n",
              "      <td>30</td>\n",
              "      <td>1</td>\n",
              "    </tr>\n",
              "  </tbody>\n",
              "</table>\n",
              "</div>"
            ],
            "text/plain": [
              "   age  year  nodes  status\n",
              "0   30    64      1       1\n",
              "1   30    62      3       1\n",
              "2   30    65      0       1\n",
              "3   31    59      2       1\n",
              "4   31    65      4       1\n",
              "5   33    58     10       1\n",
              "6   33    60      0       1\n",
              "7   34    59      0       2\n",
              "8   34    66      9       2\n",
              "9   34    58     30       1"
            ]
          },
          "metadata": {
            "tags": []
          },
          "execution_count": 3
        }
      ]
    },
    {
      "cell_type": "code",
      "metadata": {
        "id": "yMnZzxU1Pajl",
        "colab_type": "code",
        "outputId": "de1ce286-7e5d-4859-c350-0dff5321ce22",
        "colab": {
          "base_uri": "https://localhost:8080/",
          "height": 287
        }
      },
      "source": [
        "\n",
        "haberman.describe()"
      ],
      "execution_count": 4,
      "outputs": [
        {
          "output_type": "execute_result",
          "data": {
            "text/html": [
              "<div>\n",
              "<style scoped>\n",
              "    .dataframe tbody tr th:only-of-type {\n",
              "        vertical-align: middle;\n",
              "    }\n",
              "\n",
              "    .dataframe tbody tr th {\n",
              "        vertical-align: top;\n",
              "    }\n",
              "\n",
              "    .dataframe thead th {\n",
              "        text-align: right;\n",
              "    }\n",
              "</style>\n",
              "<table border=\"1\" class=\"dataframe\">\n",
              "  <thead>\n",
              "    <tr style=\"text-align: right;\">\n",
              "      <th></th>\n",
              "      <th>age</th>\n",
              "      <th>year</th>\n",
              "      <th>nodes</th>\n",
              "      <th>status</th>\n",
              "    </tr>\n",
              "  </thead>\n",
              "  <tbody>\n",
              "    <tr>\n",
              "      <th>count</th>\n",
              "      <td>306.000000</td>\n",
              "      <td>306.000000</td>\n",
              "      <td>306.000000</td>\n",
              "      <td>306.000000</td>\n",
              "    </tr>\n",
              "    <tr>\n",
              "      <th>mean</th>\n",
              "      <td>52.457516</td>\n",
              "      <td>62.852941</td>\n",
              "      <td>4.026144</td>\n",
              "      <td>1.264706</td>\n",
              "    </tr>\n",
              "    <tr>\n",
              "      <th>std</th>\n",
              "      <td>10.803452</td>\n",
              "      <td>3.249405</td>\n",
              "      <td>7.189654</td>\n",
              "      <td>0.441899</td>\n",
              "    </tr>\n",
              "    <tr>\n",
              "      <th>min</th>\n",
              "      <td>30.000000</td>\n",
              "      <td>58.000000</td>\n",
              "      <td>0.000000</td>\n",
              "      <td>1.000000</td>\n",
              "    </tr>\n",
              "    <tr>\n",
              "      <th>25%</th>\n",
              "      <td>44.000000</td>\n",
              "      <td>60.000000</td>\n",
              "      <td>0.000000</td>\n",
              "      <td>1.000000</td>\n",
              "    </tr>\n",
              "    <tr>\n",
              "      <th>50%</th>\n",
              "      <td>52.000000</td>\n",
              "      <td>63.000000</td>\n",
              "      <td>1.000000</td>\n",
              "      <td>1.000000</td>\n",
              "    </tr>\n",
              "    <tr>\n",
              "      <th>75%</th>\n",
              "      <td>60.750000</td>\n",
              "      <td>65.750000</td>\n",
              "      <td>4.000000</td>\n",
              "      <td>2.000000</td>\n",
              "    </tr>\n",
              "    <tr>\n",
              "      <th>max</th>\n",
              "      <td>83.000000</td>\n",
              "      <td>69.000000</td>\n",
              "      <td>52.000000</td>\n",
              "      <td>2.000000</td>\n",
              "    </tr>\n",
              "  </tbody>\n",
              "</table>\n",
              "</div>"
            ],
            "text/plain": [
              "              age        year       nodes      status\n",
              "count  306.000000  306.000000  306.000000  306.000000\n",
              "mean    52.457516   62.852941    4.026144    1.264706\n",
              "std     10.803452    3.249405    7.189654    0.441899\n",
              "min     30.000000   58.000000    0.000000    1.000000\n",
              "25%     44.000000   60.000000    0.000000    1.000000\n",
              "50%     52.000000   63.000000    1.000000    1.000000\n",
              "75%     60.750000   65.750000    4.000000    2.000000\n",
              "max     83.000000   69.000000   52.000000    2.000000"
            ]
          },
          "metadata": {
            "tags": []
          },
          "execution_count": 4
        }
      ]
    },
    {
      "cell_type": "markdown",
      "metadata": {
        "id": "MxbNII73TBFX",
        "colab_type": "text"
      },
      "source": [
        "**After the initial probing of the data using .info function I found that:**\n",
        "\n",
        "1) The study has been conducted from 1958 to 1969.\n",
        "\n",
        "2) The average age of the participant was 52 years with the minimun age of          participant being 30 years and the maximum being 83 years.\n",
        "\n",
        "3) 25% of the participant were of the age 44 or below. 50% of the participants were of 52 or below and more than 75% of the population was 60 or below.\n"
      ]
    },
    {
      "cell_type": "code",
      "metadata": {
        "id": "LHjutBw9ShfD",
        "colab_type": "code",
        "outputId": "b8915c30-90fe-46c9-b8bb-2ac3a0582eeb",
        "colab": {
          "base_uri": "https://localhost:8080/",
          "height": 176
        }
      },
      "source": [
        "haberman.info()"
      ],
      "execution_count": 5,
      "outputs": [
        {
          "output_type": "stream",
          "text": [
            "<class 'pandas.core.frame.DataFrame'>\n",
            "RangeIndex: 306 entries, 0 to 305\n",
            "Data columns (total 4 columns):\n",
            "age       306 non-null int64\n",
            "year      306 non-null int64\n",
            "nodes     306 non-null int64\n",
            "status    306 non-null int64\n",
            "dtypes: int64(4)\n",
            "memory usage: 9.6 KB\n"
          ],
          "name": "stdout"
        }
      ]
    },
    {
      "cell_type": "code",
      "metadata": {
        "id": "pwhYFBGcg1_x",
        "colab_type": "code",
        "outputId": "8b4512c1-c26b-4e9a-cfd0-699bab040994",
        "colab": {
          "base_uri": "https://localhost:8080/",
          "height": 70
        }
      },
      "source": [
        "haberman['status'].value_counts()  #We can see there are lot more patients that survived than the patients that didn't survive for 5 years."
      ],
      "execution_count": 6,
      "outputs": [
        {
          "output_type": "execute_result",
          "data": {
            "text/plain": [
              "1    225\n",
              "2     81\n",
              "Name: status, dtype: int64"
            ]
          },
          "metadata": {
            "tags": []
          },
          "execution_count": 6
        }
      ]
    },
    {
      "cell_type": "markdown",
      "metadata": {
        "id": "sZd-chU9VHRE",
        "colab_type": "text"
      },
      "source": [
        "All four columns are of type integer, hence no data cleaning is required. Let's start with plotting with the purpose of classification. But lets answer some of the questions, such as:\n",
        "\n",
        "1> What is the \"nodes\" column ?\n",
        "\n",
        "2> What is the \"status\" column ?\n",
        "\n",
        "To answer these questions need the domain knowledge. Specially what is the terminology that is used with the cancer patients and their treatment.\\\n",
        "\n",
        "**Nodes**: Before or during surgery to remove an invasive breast cancer, your doctor removes one or some of the underarm lymph nodes so they can be examined under a microscope for cancer cells. The presence of cancer cells is known as lymph node involvement.\n",
        "\n",
        "Lymph nodes are small, bean-shaped organs that act as filters along the lymph fluid channels. As lymph fluid leaves the breast and eventually goes back into the bloodstream, the lymph nodes try to catch and trap cancer cells before they reach other parts of the body. Having cancer cells in the lymph nodes under your arm suggests an increased risk of the cancer spreading.\n",
        "\n",
        "When lymph nodes are free, or clear, of cancer, the test results are negative. If lymph nodes have some cancer cells in them, they are called positive. Your pathology report will tell you how many lymph nodes were removed, and of those, how many tested positive for the presence of cancer cells. For example, 0/3 means 3 nodes were removed and 0 were positive, while 2/5 means 5 were removed and 2 were positive.\n",
        "\n",
        "Reference: [Axillary Lymph Nodes and their connection to Breast Cancer](https://www.breastcancer.org/symptoms/diagnosis/lymph_nodes)\n",
        "\n",
        "**Status column**: If status column is 1, then the patient survivied for 5 years and longer else if it is 2, then the patient didn't survive for 5 years and died earlier.\n",
        "\n",
        "In our given data set there are 3 features namely Age, Year of treatment and Nodes, and there is one label, namely 1 for survived and 2 for no survival."
      ]
    },
    {
      "cell_type": "markdown",
      "metadata": {
        "id": "MmlK8yBYiZHA",
        "colab_type": "text"
      },
      "source": [
        "Now let's plot the relationship between the nodes column and the status column."
      ]
    },
    {
      "cell_type": "code",
      "metadata": {
        "id": "AaJrpbm6U_v_",
        "colab_type": "code",
        "outputId": "6dc1d8b8-6a93-43cc-ea35-410bf90214de",
        "colab": {
          "base_uri": "https://localhost:8080/",
          "height": 294
        }
      },
      "source": [
        "haberman.plot(kind = 'scatter', x = 'nodes', y = 'status');\n",
        "plt.title(\"Scatter plot of Status Vs Nodes\")\n",
        "plt.show()"
      ],
      "execution_count": 7,
      "outputs": [
        {
          "output_type": "display_data",
          "data": {
            "image/png": "[encoded data removed]",
            "text/plain": [
              "<Figure size 432x288 with 1 Axes>"
            ]
          },
          "metadata": {
            "tags": []
          }
        }
      ]
    },
    {
      "cell_type": "markdown",
      "metadata": {
        "id": "MHJEoPVujdjK",
        "colab_type": "text"
      },
      "source": [
        "Inference of the 2D scatter-plot: Not much can be inferred from this scatter-plot as the labels does not really show how does the status depends upon the nodes, because they are almost same status for same number of nodes."
      ]
    },
    {
      "cell_type": "code",
      "metadata": {
        "id": "ItMMWyeci9R_",
        "colab_type": "code",
        "outputId": "8e9bbc49-a232-4cf1-ff82-01482b438da6",
        "colab": {
          "base_uri": "https://localhost:8080/",
          "height": 294
        }
      },
      "source": [
        "haberman.plot(kind = 'scatter', x = 'age', y = 'status')\n",
        "plt.title(\"Scatter Plot of Status Vs Age\")\n",
        "plt.show()"
      ],
      "execution_count": 8,
      "outputs": [
        {
          "output_type": "display_data",
          "data": {
            "image/png": "[encoded data removed]",
            "text/plain": [
              "<Figure size 432x288 with 1 Axes>"
            ]
          },
          "metadata": {
            "tags": []
          }
        }
      ]
    },
    {
      "cell_type": "markdown",
      "metadata": {
        "id": "C2BvcD1tkLd3",
        "colab_type": "text"
      },
      "source": [
        "Okay so this plot also doesn't say anything other than that breast cancer has been diagnosed with patients between 35 and 85(approx)"
      ]
    },
    {
      "cell_type": "code",
      "metadata": {
        "id": "-QXaTLz4kAg7",
        "colab_type": "code",
        "outputId": "ad1c6f1b-b8a4-4a2e-f7e2-722525a30101",
        "colab": {
          "base_uri": "https://localhost:8080/",
          "height": 454
        }
      },
      "source": [
        "sns.set_style('whitegrid');\n",
        "sns.FacetGrid(haberman, hue = 'status', size = 6).map(plt.scatter, 'nodes', 'status').add_legend();\n",
        "plt.title(\"Scatter Plot of Status against Number of Infected Nodes!\")\n",
        "plt.show();"
      ],
      "execution_count": 9,
      "outputs": [
        {
          "output_type": "display_data",
          "data": {
            "image/png": "[encoded data removed]",
            "text/plain": [
              "<Figure size 474.375x432 with 1 Axes>"
            ]
          },
          "metadata": {
            "tags": []
          }
        }
      ]
    },
    {
      "cell_type": "markdown",
      "metadata": {
        "id": "eMMhTtIylzKP",
        "colab_type": "text"
      },
      "source": [
        "Fancy plotting, nothing else.\n",
        "\n",
        "Now let's draw some pair-plots to get some more inference out of our dataset:"
      ]
    },
    {
      "cell_type": "code",
      "metadata": {
        "id": "kQva4yABlKNn",
        "colab_type": "code",
        "outputId": "470bbac0-26e8-43f1-c4b9-334b05d5e127",
        "colab": {
          "base_uri": "https://localhost:8080/",
          "height": 656
        }
      },
      "source": [
        "sns.set_style('whitegrid');\n",
        "sns.pairplot(haberman, hue = 'status', height = 3, vars = [\"age\", \"nodes\", \"year\"])\n",
        "plt.legend()\n",
        "plt.show()"
      ],
      "execution_count": 24,
      "outputs": [
        {
          "output_type": "display_data",
          "data": {
            "image/png": "[encoded data removed]",
            "text/plain": [
              "<Figure size 690.375x648 with 12 Axes>"
            ]
          },
          "metadata": {
            "tags": []
          }
        }
      ]
    },
    {
      "cell_type": "markdown",
      "metadata": {
        "id": "bpowSObwnwFn",
        "colab_type": "text"
      },
      "source": [
        "Okay so looking at the above pair-plot it is very hard to determine which of the three attributes are the most important in classifying the survival of patients because each of the plot is so jumbled up except the plot of status Vs each of the three features, but then also we can't say which particular range of a particular feature determines the survival of the patient."
      ]
    },
    {
      "cell_type": "code",
      "metadata": {
        "id": "hl5ZwSbImR_M",
        "colab_type": "code",
        "outputId": "19a33925-7109-41a2-afcb-9aea65ac7aba",
        "colab": {
          "base_uri": "https://localhost:8080/",
          "height": 132
        }
      },
      "source": [
        "\n",
        "fig = px.scatter_3d(haberman, x='age', y='year', z='nodes', color='status')''\n",
        "fig.show()"
      ],
      "execution_count": 11,
      "outputs": [
        {
          "output_type": "error",
          "ename": "SyntaxError",
          "evalue": "ignored",
          "traceback": [
            "\u001b[0;36m  File \u001b[0;32m\"<ipython-input-11-d8b73fe7080e>\"\u001b[0;36m, line \u001b[0;32m2\u001b[0m\n\u001b[0;31m    fig = px.scatter_3d(haberman, x='age', y='year', z='nodes', color='status')''\u001b[0m\n\u001b[0m                                                                                ^\u001b[0m\n\u001b[0;31mSyntaxError\u001b[0m\u001b[0;31m:\u001b[0m invalid syntax\n"
          ]
        }
      ]
    },
    {
      "cell_type": "markdown",
      "metadata": {
        "id": "24IReS85qr0K",
        "colab_type": "text"
      },
      "source": [
        "The above code for 3D plotting has been copied from the following resource: Plotly(https://plot.ly/python/3d-scatter-plots/)\n",
        "\n",
        "Inference from the 3D plot: Okay so we can see from the legend that all the yellow points are the patients who did not survive. We can slightly infer that most patients who did not  survive had non-zero number of nodes which were infected while some patients who did surivive had zero number of infected nodes. Let's investigate further."
      ]
    },
    {
      "cell_type": "code",
      "metadata": {
        "id": "4V90jo9SprRC",
        "colab_type": "code",
        "colab": {}
      },
      "source": [
        "non_zero_nodes = haberman[haberman.nodes != 0]\n",
        "print(non_zero_nodes.shape)\n",
        "not_survived_with_non_zero_nodes = non_zero_nodes[non_zero_nodes.status != 1]\n",
        "print(not_survived_with_non_zero_nodes.shape)\n",
        "plt.plot(not_survived_with_non_zero_nodes.nodes, np.zeros_like(not_survived_with_non_zero_nodes.nodes), 'ro')\n",
        "plt.title(\"1-D scatter plot of Patients who can't survive against number of infected nodes\")\n",
        "plt.xlabel(\"Number of Infected Nodes\")\n",
        "plt.show()\n"
      ],
      "execution_count": 0,
      "outputs": []
    },
    {
      "cell_type": "markdown",
      "metadata": {
        "id": "VrD-MIIxvHxc",
        "colab_type": "text"
      },
      "source": [
        "Hence, out of 81 patients who can't survive, 62 had non-zero number of nodes. So we can say that number of non-zero nodes does play an important role in the classfication of such patients. This also shows that 19 patients did die even if they had zero number of infected lymphic nodes. Puzzuling! Let's find out the number of patients who did survive, even if they had non zero number of infected nodes:"
      ]
    },
    {
      "cell_type": "code",
      "metadata": {
        "id": "AjrqodrHsUDD",
        "colab_type": "code",
        "colab": {}
      },
      "source": [
        "surviving_non_zero_nodes = non_zero_nodes[non_zero_nodes.status == 1]\n",
        "print(surviving_non_zero_nodes.shape)\n",
        "plt.plot(surviving_non_zero_nodes.nodes, np.zeros_like(surviving_non_zero_nodes), 'bo')\n",
        "plt.title(\"1-D scatter plot of patients who survived and had non zero number of infected nodes\")\n",
        "plt.xlabel(\"Number of Infected Nodes\")\n",
        "plt.show()"
      ],
      "execution_count": 0,
      "outputs": []
    },
    {
      "cell_type": "markdown",
      "metadata": {
        "id": "kByL3ON_wrXe",
        "colab_type": "text"
      },
      "source": [
        "Interesting. 108 patients who had non-zero infected nodes survived 5 years or than 5 years. We have to remember the fact these 108 patients come from a pool of 225 patients who actually survived. And percentage of people who died because they had non-zero infected nodes is (62 / 81) which is around 77% but percentage of people who did not die but stil had non-zero number of nodes is (108/225) which is around 48%. This can somewhat confirm my above claim. Let's confirm this claim by PDFs."
      ]
    },
    {
      "cell_type": "code",
      "metadata": {
        "id": "7sa2J2nQwl8L",
        "colab_type": "code",
        "colab": {}
      },
      "source": [
        "plt.plot(haberman.nodes, haberman.age, 'go')\n",
        "plt.title('Nodes vs Age')\n",
        "plt.xlabel(\"Age\")\n",
        "plt.ylabel(\"Number OF Nodes\")\n",
        "plt.show()"
      ],
      "execution_count": 0,
      "outputs": []
    },
    {
      "cell_type": "markdown",
      "metadata": {
        "id": "T-MxpKxzGVg2",
        "colab_type": "text"
      },
      "source": [
        "Again, can't make much sense from the above plot between Nodes and Ages."
      ]
    },
    {
      "cell_type": "code",
      "metadata": {
        "id": "-eGIW2wyy9nH",
        "colab_type": "code",
        "colab": {}
      },
      "source": [
        "sns.FacetGrid(not_survived_with_non_zero_nodes, hue = 'status', height = 5).map(sns.distplot, \"nodes\").add_legend()\n",
        "plt.title(\"PDF plot of Patients who can't survive and also had non zero number of infected nodes\")\n",
        "plt.ylabel(\"probabilities\")\n",
        "plt.show()\n"
      ],
      "execution_count": 0,
      "outputs": []
    },
    {
      "cell_type": "code",
      "metadata": {
        "id": "TqhVVRnK06eJ",
        "colab_type": "code",
        "colab": {}
      },
      "source": [
        "counts, bin_edges = np.histogram(not_survived_with_non_zero_nodes.nodes, bins=10, \n",
        "                                 density = True)\n",
        "\n",
        "pdf = counts/(sum(counts))\n",
        "cdf = np.cumsum(pdf)\n",
        "plt.figure(figsize=(12, 10))\n",
        "plt.subplot(2,1,1)\n",
        "plt.xlabel(\"Number of infected nodes\")\n",
        "plt.title(\"PDF of patients who can't survive plotted on the number of infected nodes\")\n",
        "plt.plot(bin_edges[1:], pdf, 'r')\n",
        "plt.subplot(2,1,2)\n",
        "plt.xlabel(\"Number of infected nodes\")\n",
        "plt.plot(bin_edges[1:], cdf, 'g')\n",
        "plt.title(\"CDF of patients who can't survive plotted on the number of infected nodes\")"
      ],
      "execution_count": 0,
      "outputs": []
    },
    {
      "cell_type": "markdown",
      "metadata": {
        "id": "61XQ5Zp9LDeU",
        "colab_type": "text"
      },
      "source": [
        "This is the plot of patient who didn't survive and also had non zero nodes."
      ]
    },
    {
      "cell_type": "code",
      "metadata": {
        "id": "8pV2qcb3JRM-",
        "colab_type": "code",
        "colab": {}
      },
      "source": [
        "\n",
        "sns.FacetGrid(haberman, hue = 'status', height = 5).map(sns.distplot, 'nodes').add_legend()\n",
        "plt.title(\"PDF of the Haberman dataset\")\n",
        "\n",
        "plt.show()"
      ],
      "execution_count": 0,
      "outputs": []
    },
    {
      "cell_type": "markdown",
      "metadata": {
        "id": "mo-uoKLwLTAW",
        "colab_type": "text"
      },
      "source": [
        "This is the PDF of the whole Haberman dataset. It shows the probability densities of both people who survived nd those who can't. It's interesting to see that the peak of the PDF of status-1 is exactly at 0 or very close to 0, but the PDF of status-2 is rather on the right of 0, hence this also confirms the fact that patient who non zero number of lymphic nodes can't survive for 5 or more years."
      ]
    },
    {
      "cell_type": "code",
      "metadata": {
        "id": "FHhcX5gjJqc7",
        "colab_type": "code",
        "colab": {}
      },
      "source": [
        "zero_nodes = haberman[haberman.nodes <= 0]\n",
        "print(zero_nodes.shape)\n",
        "died_with_zero_nodes = zero_nodes[zero_nodes.status != 1]\n",
        "print(died_with_zero_nodes.shape)"
      ],
      "execution_count": 0,
      "outputs": []
    },
    {
      "cell_type": "markdown",
      "metadata": {
        "id": "ssNSCmAuKfz6",
        "colab_type": "text"
      },
      "source": [
        "From the above computation we can see that out of 136 people who had zero number of infected nodes, only 19 can't survived. Hence, percentage: 19 / 136 = 14%. 14% percent people died, which is low considerd to the opposite to this case, which was around 77%."
      ]
    },
    {
      "cell_type": "markdown",
      "metadata": {
        "id": "EdbU2T5OMpPL",
        "colab_type": "text"
      },
      "source": [
        "Let's plot the PDFs of age and year also to find out if there is any relation b/w the age or year with the survival rate."
      ]
    },
    {
      "cell_type": "code",
      "metadata": {
        "id": "evyGVN9nJ9XH",
        "colab_type": "code",
        "colab": {}
      },
      "source": [
        "sns.FacetGrid(haberman, hue = 'status', height = 5).map(sns.distplot, 'age').add_legend()\n",
        "plt.title(\"PDF of the haberman dataset against the ages of the patients\")\n",
        "plt.show()"
      ],
      "execution_count": 0,
      "outputs": []
    },
    {
      "cell_type": "markdown",
      "metadata": {
        "id": "oZccvT6rOc6o",
        "colab_type": "text"
      },
      "source": [
        "Let's try with the year they were diagnosed."
      ]
    },
    {
      "cell_type": "code",
      "metadata": {
        "id": "NYVrjQzBOE8b",
        "colab_type": "code",
        "colab": {}
      },
      "source": [
        "sns.FacetGrid(cant_survive, hue = 'status', height = 5).map(sns.distplot, 'year').add_legend()\n",
        "plt.title(\"PDF of the patient against the year they were diagnosed!\")\n",
        "plt.show()"
      ],
      "execution_count": 0,
      "outputs": []
    },
    {
      "cell_type": "markdown",
      "metadata": {
        "id": "Uk5wSpHXPxz-",
        "colab_type": "text"
      },
      "source": [
        "Let's draw a CDF for the above PDFs."
      ]
    },
    {
      "cell_type": "code",
      "metadata": {
        "id": "qwb0H7BpO_OJ",
        "colab_type": "code",
        "colab": {}
      },
      "source": [
        "counts, bin_edges = np.histogram(haberman.age, bins=10, \n",
        "                                 density = True)\n",
        "pdf = counts/(sum(counts))\n",
        "print(pdf);\n",
        "print(bin_edges);"
      ],
      "execution_count": 0,
      "outputs": []
    },
    {
      "cell_type": "code",
      "metadata": {
        "id": "VnnGXnqlQ333",
        "colab_type": "code",
        "colab": {}
      },
      "source": [
        "cdf = np.cumsum(pdf)\n",
        "plt.figure(figsize = (12, 10))\n",
        "plt.subplot(2,1,1)\n",
        "plt.plot(bin_edges[1:], pdf, 'r')\n",
        "plt.title(\"PDF of patients who can't survive plotted on their ages\")\n",
        "plt.xlabel(\"Age\")\n",
        "plt.subplot(2,1,2)\n",
        "plt.plot(bin_edges[1:], cdf, 'g')\n",
        "plt.title(\"CDF of patients who can't survive plotted on their ages\")\n",
        "plt.xlabel(\"Age\")"
      ],
      "execution_count": 0,
      "outputs": []
    },
    {
      "cell_type": "markdown",
      "metadata": {
        "id": "qJK1jrTcSWWZ",
        "colab_type": "text"
      },
      "source": [
        "We can infer from the above CDF that 80% of the patients who can't survive were below 65."
      ]
    },
    {
      "cell_type": "code",
      "metadata": {
        "id": "IPWyR5y5RtYj",
        "colab_type": "code",
        "colab": {}
      },
      "source": [
        "counts, bin_edges = np.histogram(cant_survive.nodes, bins=10, \n",
        "                                 density = True)\n",
        "pdf = counts/(sum(counts))\n",
        "print(pdf);\n",
        "print(bin_edges);\n",
        "cdf = np.cumsum(pdf)\n",
        "plt.plot(bin_edges[1:], cdf)\n",
        "plt.xlabel(\"Number of infected nodes\")\n",
        "plt.title(\"CDF of patients who can't survive plotted on the number of infected nodes\")\n"
      ],
      "execution_count": 0,
      "outputs": []
    },
    {
      "cell_type": "markdown",
      "metadata": {
        "id": "T32BfwpgTglm",
        "colab_type": "text"
      },
      "source": [
        "80% of patient who can't survive had more than 10 infected nodes."
      ]
    },
    {
      "cell_type": "markdown",
      "metadata": {
        "id": "Iuu8BRQfXHH4",
        "colab_type": "text"
      },
      "source": [
        "Now, let's try out some box plots:-\n",
        "\n",
        "1- Box plot of Patients who can't survive Vs age\n",
        "\n",
        "2- Box plot of Patients who can't survive Vs year\n",
        "\n",
        "3- Box plot of Patients who can't survive vs nodes"
      ]
    },
    {
      "cell_type": "code",
      "metadata": {
        "id": "CCC_jw-7TRel",
        "colab_type": "code",
        "colab": {}
      },
      "source": [
        "sns.boxplot(x = cant_survive.status, y = cant_survive.age, data = cant_survive)\n",
        "plt.title(\"Box Plot of patients who can't survive and their ages\")\n",
        "plt.show()"
      ],
      "execution_count": 0,
      "outputs": []
    },
    {
      "cell_type": "code",
      "metadata": {
        "id": "MQNz1jXEYEpq",
        "colab_type": "code",
        "colab": {}
      },
      "source": [
        "sns.boxplot(x = cant_survive.status, y = cant_survive.year, data = cant_survive )\n",
        "plt.title(\"Box Plot of patients who can't survive and the year they were diagnosed in\")\n",
        "plt.show()"
      ],
      "execution_count": 0,
      "outputs": []
    },
    {
      "cell_type": "code",
      "metadata": {
        "id": "kRvC-MV2Yh-f",
        "colab_type": "code",
        "colab": {}
      },
      "source": [
        "sns.boxplot(x = cant_survive.status, y = cant_survive.nodes, data = cant_survive)\n",
        "plt.title(\"Box Plot of patients who can't survive and the number of infected Nodes they had\")\n",
        "plt.show()"
      ],
      "execution_count": 0,
      "outputs": []
    },
    {
      "cell_type": "markdown",
      "metadata": {
        "id": "0LeTechiY7ui",
        "colab_type": "text"
      },
      "source": [
        "These boxplots help solidify our findings above, also the above boxplot let's us detect outliers which is just superb. Also the description given by these boxplots also matches our statistics which we obtained using .describe method on the dataset.\n",
        "\n",
        "Some Interesting Findings:-\n",
        "\n",
        "1. More than 75% patient who died were diagnosed before 1966.\n",
        "2. More than 75% patient died before the age of around 62.\n",
        "3. More than 75% patient who died had more than 10 infected nodes."
      ]
    },
    {
      "cell_type": "markdown",
      "metadata": {
        "id": "gj6a-NuEZ7LX",
        "colab_type": "text"
      },
      "source": [
        "Let's try out violin plot on our data.\n"
      ]
    },
    {
      "cell_type": "code",
      "metadata": {
        "id": "08dEDRWFY2FO",
        "colab_type": "code",
        "colab": {}
      },
      "source": [
        "sns.violinplot(x = cant_survive.status, y = cant_survive.nodes, data = cant_survive)\n",
        "plt.title(\"Violin Plot of patients who can't survive and the number of infected nodes they had\")\n",
        "plt.show()"
      ],
      "execution_count": 0,
      "outputs": []
    },
    {
      "cell_type": "code",
      "metadata": {
        "id": "BA8aBreEa-hq",
        "colab_type": "code",
        "colab": {}
      },
      "source": [
        "sns.violinplot(x = cant_survive.status, y = cant_survive.age, data = cant_survive)\n",
        "plt.title(\"Violin Plot of patients who can't survive and their ages\")\n",
        "plt.show()"
      ],
      "execution_count": 0,
      "outputs": []
    },
    {
      "cell_type": "code",
      "metadata": {
        "id": "EDmhKvdkcBna",
        "colab_type": "code",
        "colab": {}
      },
      "source": [
        "sns.violinplot(x = cant_survive.status, y = cant_survive.year, data = cant_survive)\n",
        "plt.title(\"Violin Plot of patients who can't survive and the year they were diagnosed in\")\n",
        "plt.show()"
      ],
      "execution_count": 0,
      "outputs": []
    },
    {
      "cell_type": "markdown",
      "metadata": {
        "id": "-LqJTtYLcpIH",
        "colab_type": "text"
      },
      "source": [
        "Some interesting findings-\n",
        "\n",
        "1. The probability of dying around the age of 50 was the highest.\n",
        "2. The probability of dying in the year 1965 was the highest.\n",
        "3. The patients who can't survive had the highest probability of having less than 5 infected nodes."
      ]
    },
    {
      "cell_type": "markdown",
      "metadata": {
        "id": "0nmWZWc1czf5",
        "colab_type": "text"
      },
      "source": [
        "# Conclusions:\n",
        "\n",
        "All the conclusions have been listed below each finding. Moreover we can conclude that:-\n",
        "\n",
        "1. Patient at the age 0f 50 or more were more likely to not survive.\n",
        "\n",
        "2. Patient who had number of infected nodes below 5 were more likely to die.\n",
        "\n",
        "3. Patient were more likely to not survive if they had been diagnosed in the year 1965.\n",
        "\n",
        "\n",
        "# References: \n",
        "\n",
        "Most of the code has been referenced by Exploratory_data_analysis.ipynb which was given as a supplementary material."
      ]
    }
  ]
}